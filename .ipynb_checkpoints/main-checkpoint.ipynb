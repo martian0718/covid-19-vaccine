{
 "cells": [
  {
   "cell_type": "code",
   "execution_count": 10,
   "metadata": {},
   "outputs": [],
   "source": [
    "import sys\n",
    "assert sys.version_info >= (3, 5)\n",
    "import time\n",
    "import warnings\n",
    "import os\n",
    "\n",
    "import pandas as pd\n",
    "import numpy as np\n",
    "\n",
    "import matplotlib as mpl\n",
    "import matplotlib.pyplot as plt\n",
    "\n",
    "import sklearn.linear_model\n",
    "\n",
    "import seaborn as sns\n",
    "\n",
    "import sklearn\n",
    "assert sklearn.__version__ >= \"0.20\"\n",
    "from sklearn.model_selection import train_test_split\n",
    "from sklearn import linear_model\n",
    "from sklearn.linear_model import LinearRegression\n",
    "\n",
    "from scipy.stats import pearsonr\n",
    "warnings.filterwarnings(\"ignore\")\n",
    "\n",
    "#Options and parameters.\n",
    "dataFileName = \"country_vaccinations.csv\"\n",
    "\n",
    "#Load the file using pandas\n",
    "df = pd.read_csv(dataFileName)\n",
    "df.head()\n",
    "\n",
    "#Establish the helper functions\n",
    "def clearNullsWithMean(dataFrame, featureName):\n",
    "    dataFrame[featureName].fillna(dataFrame[featureName].mean(), inplace = True)\n",
    "    dataFrame.fillna(0, inplace = True)\n",
    "    return None\n",
    "\n",
    "def clearNullsWithZero(dataFrame, featureName):\n",
    "    dataFrame[featureName].fillna(0, inplace = True)\n",
    "    dataFrame.fillna(0, inplace = True)\n",
    "    return None"
   ]
  },
  {
   "cell_type": "code",
   "execution_count": 13,
   "metadata": {},
   "outputs": [
    {
     "name": "stdout",
     "output_type": "stream",
     "text": [
      "R-Squared:  0.018302533211747685\n"
     ]
    },
    {
     "data": {
      "image/png": "[encoded data removed]",
      "text/plain": [
       "<Figure size 432x288 with 1 Axes>"
      ]
     },
     "metadata": {
      "needs_background": "light"
     },
     "output_type": "display_data"
    }
   ],
   "source": [
    "df.shape\n",
    "df.isna().sum()\n",
    "\n",
    "#Test-train data split\n",
    "train_df, test_df = train_test_split(df, shuffle=True, test_size = 0.95, random_state=17)\n",
    "\n",
    "#Convert dates into the date type and then into the integer type.\n",
    "x = train_df['date']\n",
    "x = [pd.to_datetime(d).value for d in x]\n",
    "\n",
    "#Clean the set of nulls/NaNs\n",
    "clearNullsWithZero(df, 'date')\n",
    "clearNullsWithZero(df, 'people_vaccinated')\n",
    "\n",
    "#Reshape the Y set.\n",
    "y = train_df['people_vaccinated']\n",
    "x2 = np.array(x).reshape(-1,1)\n",
    "#print(x2)\n",
    "\n",
    "#Load the linear regression model\n",
    "model = sklearn.linear_model.LinearRegression()\n",
    "model.fit(x2,y)\n",
    "\n",
    "#display the R-Squared score\n",
    "r_sq = model.score(x2, y)\n",
    "print(\"R-Squared: \", r_sq)\n",
    "\n",
    "plt.scatter(x2, y, color='black', label='observed')\n",
    "plt.plot(x2, model.predict(x2), label='fit', color='Green', linewidth=2)\n",
    "plt.xlabel('Date')\n",
    "plt.ylabel('People Vaccinated')\n",
    "plt.title('Regression')\n",
    "plt.legend(loc='best')\n",
    "\n",
    "plt.show()\n"
   ]
  },
  {
   "cell_type": "code",
   "execution_count": null,
   "metadata": {},
   "outputs": [],
   "source": []
  }
 ],
 "metadata": {
  "kernelspec": {
   "display_name": "Python 3",
   "language": "python",
   "name": "python3"
  },
  "language_info": {
   "codemirror_mode": {
    "name": "ipython",
    "version": 3
   },
   "file_extension": ".py",
   "mimetype": "text/x-python",
   "name": "python",
   "nbconvert_exporter": "python",
   "pygments_lexer": "ipython3",
   "version": "3.9.1"
  }
 },
 "nbformat": 4,
 "nbformat_minor": 1
}
